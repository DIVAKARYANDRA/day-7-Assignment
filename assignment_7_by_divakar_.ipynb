{
  "nbformat": 4,
  "nbformat_minor": 0,
  "metadata": {
    "colab": {
      "name": "assignment 7 by divakar .ipynb",
      "provenance": [],
      "authorship_tag": "ABX9TyNtpTbaiVmAwNcG5EIvdgXh",
      "include_colab_link": true
    },
    "kernelspec": {
      "name": "python3",
      "display_name": "Python 3"
    },
    "language_info": {
      "name": "python"
    }
  },
  "cells": [
    {
      "cell_type": "markdown",
      "metadata": {
        "id": "view-in-github",
        "colab_type": "text"
      },
      "source": [
        "<a href=\"https://colab.research.google.com/github/DIVAKARYANDRA/day-7-Assignment/blob/main/assignment_7_by_divakar_.ipynb\" target=\"_parent\"><img src=\"https://colab.research.google.com/assets/colab-badge.svg\" alt=\"Open In Colab\"/></a>"
      ]
    },
    {
      "cell_type": "code",
      "execution_count": null,
      "metadata": {
        "id": "KA5POM_SacRP"
      },
      "outputs": [],
      "source": [
        "import mysql.connector as sql      \n",
        "database = sql.connect(host = 'localhost', user = 'root', passwd = 'ferrari458', database = 'schooldata')\n",
        "\n",
        "cur = database.cursor()\n",
        "\n",
        "\n",
        "cur.execute(\"update student set Eng_mark = 80 where Roll_no = 122\")    \n",
        "cur.execute(\"select * from student\")    \n",
        "\n",
        "for i in cur:\n",
        "    print(i)\n",
        "\n",
        "cur.close()\n",
        "database.commit()"
      ]
    }
  ]
}